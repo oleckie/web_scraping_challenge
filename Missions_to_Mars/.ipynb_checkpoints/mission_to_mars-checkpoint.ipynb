{
 "cells": [
  {
   "cell_type": "code",
   "execution_count": 1,
   "id": "f5f24ea6-5ad8-400c-9933-bfec7821e48f",
   "metadata": {},
   "outputs": [],
   "source": [
    "# Dependencies\n",
    "from bs4 import BeautifulSoup as bs\n",
    "import requests\n",
    "from splinter import Browser\n",
    "import os\n",
    "import pandas as pd\n",
    "import time\n",
    "from webdriver_manager.chrome import ChromeDriverManager"
   ]
  },
  {
   "cell_type": "code",
   "execution_count": 2,
   "id": "ca2c4d6c-819d-4779-b56c-4ef3224952d6",
   "metadata": {},
   "outputs": [
    {
     "name": "stdout",
     "output_type": "stream",
     "text": [
      "\n"
     ]
    },
    {
     "name": "stderr",
     "output_type": "stream",
     "text": [
      "[WDM] - ====== WebDriver manager ======\n",
      "INFO:WDM:====== WebDriver manager ======\n",
      "[WDM] - Current google-chrome version is 102.0.5005\n",
      "INFO:WDM:Current google-chrome version is 102.0.5005\n",
      "[WDM] - Get LATEST chromedriver version for 102.0.5005 google-chrome\n",
      "INFO:WDM:Get LATEST chromedriver version for 102.0.5005 google-chrome\n",
      "[WDM] - Driver [C:\\Users\\orlan\\.wdm\\drivers\\chromedriver\\win32\\102.0.5005.61\\chromedriver.exe] found in cache\n",
      "INFO:WDM:Driver [C:\\Users\\orlan\\.wdm\\drivers\\chromedriver\\win32\\102.0.5005.61\\chromedriver.exe] found in cache\n"
     ]
    }
   ],
   "source": [
    "# Establishing pathways\n",
    "executable_path = {'executable_path': ChromeDriverManager().install()}    \n",
    "browser = Browser('chrome', **executable_path, headless=True)"
   ]
  },
  {
   "cell_type": "code",
   "execution_count": 3,
   "id": "96a6a686-531a-4e5f-b68f-ec92e79ee65d",
   "metadata": {},
   "outputs": [],
   "source": [
    "# Defining URL to scrape\n",
    "news_url = 'https://redplanetscience.com/'\n",
    "browser.visit(news_url)"
   ]
  },
  {
   "cell_type": "code",
   "execution_count": 4,
   "id": "0bc5314f-806a-4be4-8326-36c6149f5b7c",
   "metadata": {},
   "outputs": [],
   "source": [
    "# Establishing variables\n",
    "news_html = browser.html\n",
    "news_soup = bs(news_html,'lxml')\n",
    "# print(news_soup)"
   ]
  },
  {
   "cell_type": "code",
   "execution_count": 5,
   "id": "3fb620c9-5a58-4e5c-866c-fb46110e3c88",
   "metadata": {},
   "outputs": [
    {
     "name": "stdout",
     "output_type": "stream",
     "text": [
      "Title is: Alabama High School Student Names NASA's Mars Helicopter\n",
      "Paragraph is: Vaneeza Rupani's essay was chosen as the name for the small spacecraft, which will mark NASA's first attempt at powered flight on another planet.\n"
     ]
    }
   ],
   "source": [
    "# Extract title  and paragraph text\n",
    "news_title = news_soup.find(\"div\",class_=\"content_title\").text\n",
    "news_para = news_soup.find(\"div\", class_=\"article_teaser_body\").text\n",
    "print(f\"Title is: {news_title}\")\n",
    "print(f\"Paragraph is: {news_para}\")"
   ]
  },
  {
   "cell_type": "code",
   "execution_count": null,
   "id": "f90183fd-a905-4537-b281-3a991602180a",
   "metadata": {},
   "outputs": [],
   "source": []
  }
 ],
 "metadata": {
  "kernelspec": {
   "display_name": "Python 3 (ipykernel)",
   "language": "python",
   "name": "python3"
  },
  "language_info": {
   "codemirror_mode": {
    "name": "ipython",
    "version": 3
   },
   "file_extension": ".py",
   "mimetype": "text/x-python",
   "name": "python",
   "nbconvert_exporter": "python",
   "pygments_lexer": "ipython3",
   "version": "3.9.7"
  }
 },
 "nbformat": 4,
 "nbformat_minor": 5
}
